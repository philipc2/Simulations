{
 "cells": [
  {
   "cell_type": "code",
   "execution_count": 6,
   "metadata": {},
   "outputs": [],
   "source": [
    "import pandas as pd\n",
    "import matplotlib.pyplot as plt\n",
    "import random\n",
    "import numpy as np\n",
    "import math as m\n",
    "import numpy.linalg as la\n",
    "import scipy.linalg as sla\n",
    "import csv\n",
    "\n",
    "#Boeing Insitu ScanEagle Numbers (ON EARTH)\n",
    "g = 9.81 #m/s^2\n",
    "w1 = (18+14)/2 #avg empty structure weight in kg\n",
    "w0 = 22 #kg (max takeoff weight)\n",
    "Vmax = 41.2 #m/s max horisontal speed\n",
    "Vcruise = (30 + 25)/2 #avg cruise speed in m/s\n",
    "b = 3.11 #m (wingspan)\n",
    "c = 3.11/13 #m (chord length using pixel counting)\n",
    "Ceiling = 5944 #m\n",
    "ServiceC = 4572 #m\n",
    "Sref = b*c\n",
    "\n",
    "#Boeing Insitu ScanEagle Numbers (ON TITAN)\n",
    "gt = 1.352 #m/s^2 (t = Titan)\n",
    "w1t = (w1)*gt #avg empty structure weight in kg\n",
    "w0t = (w0)*gt #max takeoff weight in kg\n",
    "\n"
   ]
  },
  {
   "cell_type": "code",
   "execution_count": 40,
   "metadata": {},
   "outputs": [
    {
     "name": "stdout",
     "output_type": "stream",
     "text": [
      "(5000.0, 146415.42200979285, 83.66322009, 5.894433195456286)\n"
     ]
    }
   ],
   "source": [
    "#read csv\n",
    "temp = []\n",
    "altitudes = []\n",
    "with open(\"TitanTempAlt.csv\",'r') as csvfile:\n",
    "    plots = csv.reader(csvfile, dialect='excel', delimiter=',')\n",
    "    for row in plots:\n",
    "        try:\n",
    "            altitudes.append(float(row[0]))\n",
    "            temp.append(float(row[1]))\n",
    "        except:\n",
    "            continue\n",
    "            \n",
    "\n",
    "def atms_conditions(alt):\n",
    "    #get alt in km to work with csv data which is in km\n",
    "    alt = alt/1000\n",
    "    if alt > altitudes[-1] or alt <= 0:\n",
    "        print(\"sorry this altitude is not in range of our function\")\n",
    "        return\n",
    "    \n",
    "    P0 = 146700 #Pa\n",
    "    R  = 296.9  #J/kg * K\n",
    "    rho0 = P0 / (temp[0] * R)\n",
    "    g = 1.352 #m/s^2; just googled value for titan\n",
    "    #exponential relation for density\n",
    "    #print(alt)\n",
    "    R_titan = 2575 #km\n",
    "    P1 = P0 * math.exp(-alt/(R_titan))\n",
    "    #print(rho0)\n",
    "    iterator = 0 #describes state state of while loop (ie what altitude and temp to be at)\n",
    "    next_temp = temp[0]\n",
    "    #lists akin to vectors, allow for dynamic storage of values\n",
    "    while altitudes[iterator] < alt:\n",
    "        #get the temp and altitude of the next state of function\n",
    "        next_temp = temp[iterator + 1]\n",
    "        next_altitude = altitudes[iterator + 1]\n",
    "        iterator += 1\n",
    "    \n",
    "    T_ceil = temp[iterator]\n",
    "    T_floor = temp[iterator - 1]\n",
    "    alt_ceil = altitudes[iterator]\n",
    "    alt_floor = altitudes[iterator - 1]\n",
    "    T1 = linear_interpolator(T_floor, T_ceil, alt_floor, alt_ceil, alt)\n",
    "    #print(T_floor, T_ceil, T1)\n",
    "    \n",
    "    rho1 = P1 / (R * T1)\n",
    "    \n",
    "    return alt*1000, P1, T1, rho1\n",
    "\n",
    "#print(146700 - atms_conditions(100)[1])\n",
    "\n",
    "alt = 5000\n",
    "results = atms_conditions(alt)\n",
    "print(results)\n",
    "\n"
   ]
  },
  {
   "cell_type": "code",
   "execution_count": 41,
   "metadata": {},
   "outputs": [],
   "source": [
    "def LiftCoeff(W, vlist, Sref, rho): \n",
    "    CL = W/(0.5*rho*vlist**2)\n",
    "    return CL\n",
    "\n"
   ]
  },
  {
   "cell_type": "code",
   "execution_count": 44,
   "metadata": {},
   "outputs": [
    {
     "name": "stderr",
     "output_type": "stream",
     "text": [
      "C:\\Users\\philipc2\\Anaconda3\\lib\\site-packages\\ipykernel_launcher.py:2: RuntimeWarning: divide by zero encountered in true_divide\n",
      "  \n"
     ]
    },
    {
     "data": {
      "text/plain": [
       "[<matplotlib.lines.Line2D at 0x1b013788cc8>]"
      ]
     },
     "execution_count": 44,
     "metadata": {},
     "output_type": "execute_result"
    },
    {
     "data": {
      "image/png": "[encoded data removed]",
      "text/plain": [
       "<Figure size 432x288 with 1 Axes>"
      ]
     },
     "metadata": {
      "needs_background": "light"
     },
     "output_type": "display_data"
    }
   ],
   "source": [
    "# 0 to 343\n",
    "vlist = np.linspace(0, Vmax, 1000)\n",
    "CL = LiftCoeff(w0t, vlist, Sref, results[3])\n",
    "    \n",
    "plt.yscale('log')\n",
    "plt.title(\"Lift Coefficient vs Velocity\")\n",
    "plt.xlabel(\"Velocity (m/s)\")\n",
    "plt.ylabel(\"Lift Coefficient\")\n",
    "plt.plot(vlist, CL)"
   ]
  }
 ],
 "metadata": {
  "kernelspec": {
   "display_name": "Python 3",
   "language": "python",
   "name": "python3"
  },
  "language_info": {
   "codemirror_mode": {
    "name": "ipython",
    "version": 3
   },
   "file_extension": ".py",
   "mimetype": "text/x-python",
   "name": "python",
   "nbconvert_exporter": "python",
   "pygments_lexer": "ipython3",
   "version": "3.7.6"
  }
 },
 "nbformat": 4,
 "nbformat_minor": 4
}
